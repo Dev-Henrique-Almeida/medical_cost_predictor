{
 "cells": [
  {
   "cell_type": "code",
   "execution_count": 1,
   "metadata": {},
   "outputs": [
    {
     "name": "stdout",
     "output_type": "stream",
     "text": [
      "Acurácia final: 0.979333563750697\n",
      "F1-score final: 0.977873450567276\n",
      "Relatório de classificação final:\n",
      "               precision    recall  f1-score   support\n",
      "\n",
      "           0       0.98      1.00      0.99   3512575\n",
      "           1       0.90      0.66      0.76    185063\n",
      "\n",
      "    accuracy                           0.98   3697638\n",
      "   macro avg       0.94      0.83      0.88   3697638\n",
      "weighted avg       0.98      0.98      0.98   3697638\n",
      "\n",
      "Matriz de confusão final:\n",
      " [[3498232   14343]\n",
      " [  62074  122989]]\n",
      "\n",
      "Média final entre Acurácia e F1-score: 0.9786035071589865\n"
     ]
    }
   ],
   "source": [
    "import pandas as pd\n",
    "from sklearn.metrics import classification_report, accuracy_score, f1_score, confusion_matrix\n",
    "import joblib\n",
    "\n",
    "test_data = pd.read_csv('../data/projeto_va1_base_de_dados_teste_sem_target.csv')\n",
    "\n",
    "categorical_columns = ['UF', 'SEXO', 'INSTRU', 'RACA_COR', 'BODY_SYSTEM']\n",
    "test_data = pd.get_dummies(test_data, columns=categorical_columns, drop_first=True)\n",
    "\n",
    "train_val_data = pd.read_csv('../data/projeto_va1_base_de_dados_train_val.csv')\n",
    "train_val_data = pd.get_dummies(train_val_data, columns=categorical_columns, drop_first=True)\n",
    "missing_cols = set(train_val_data.columns) - set(test_data.columns)\n",
    "for col in missing_cols:\n",
    "    test_data[col] = 0\n",
    "test_data = test_data[train_val_data.columns.drop('H_COST')]\n",
    "\n",
    "# Carregar o modelo treinado e o escalador\n",
    "model = joblib.load('../outputs/modelo_arvore_decisao.pkl')\n",
    "scaler = joblib.load('../outputs/scaler.pkl')\n",
    "\n",
    "test_data_scaled = scaler.transform(test_data)\n",
    "\n",
    "test_predictions = model.predict(test_data_scaled)\n",
    "\n",
    "# Salvando os resultados das predições\n",
    "result = pd.DataFrame(test_predictions, columns=['H_COST_PRED'])\n",
    "result.to_csv('../outputs/resultado_final_com_predicoes.csv', index=False)\n",
    "\n",
    "\n",
    "X_val_scaled = scaler.transform(train_val_data.drop(columns=['H_COST']))\n",
    "y_val = train_val_data['H_COST']\n",
    "y_val_pred = model.predict(X_val_scaled)\n",
    "\n",
    "final_accuracy = accuracy_score(y_val, y_val_pred)\n",
    "final_f1_score = f1_score(y_val, y_val_pred, average='weighted')\n",
    "classification_rep = classification_report(y_val, y_val_pred)\n",
    "conf_matrix = confusion_matrix(y_val, y_val_pred)\n",
    "mean_score = (final_accuracy + final_f1_score) / 2\n",
    "\n",
    "print(\"Acurácia final:\", final_accuracy)\n",
    "print(\"F1-score final:\", final_f1_score)\n",
    "print(\"Relatório de classificação final:\\n\", classification_rep)\n",
    "print(\"Matriz de confusão final:\\n\", conf_matrix)\n",
    "print(\"\\nMédia final entre Acurácia e F1-score:\", mean_score)\n"
   ]
  }
 ],
 "metadata": {
  "kernelspec": {
   "display_name": "Python 3",
   "language": "python",
   "name": "python3"
  },
  "language_info": {
   "codemirror_mode": {
    "name": "ipython",
    "version": 3
   },
   "file_extension": ".py",
   "mimetype": "text/x-python",
   "name": "python",
   "nbconvert_exporter": "python",
   "pygments_lexer": "ipython3",
   "version": "3.12.4"
  }
 },
 "nbformat": 4,
 "nbformat_minor": 2
}
