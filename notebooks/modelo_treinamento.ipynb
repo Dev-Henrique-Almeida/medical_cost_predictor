{
 "cells": [
  {
   "cell_type": "code",
   "execution_count": 1,
   "metadata": {},
   "outputs": [
    {
     "name": "stdout",
     "output_type": "stream",
     "text": [
      "Acurácia final: 0.9595633971938858\n",
      "F1-score final: 0.9559360470928457\n",
      "Relatório de classificação final:\n",
      "               precision    recall  f1-score   support\n",
      "\n",
      "           0       0.97      0.99      0.98    702293\n",
      "           1       0.64      0.44      0.52     37235\n",
      "\n",
      "    accuracy                           0.96    739528\n",
      "   macro avg       0.81      0.71      0.75    739528\n",
      "weighted avg       0.95      0.96      0.96    739528\n",
      "\n",
      "Matriz de confusão final:\n",
      " [[693226   9067]\n",
      " [ 20837  16398]]\n",
      "\n",
      "Média final entre Acurácia e F1-score: 0.9577497221433657\n"
     ]
    }
   ],
   "source": [
    "import pandas as pd\n",
    "from sklearn.model_selection import train_test_split\n",
    "from sklearn.preprocessing import StandardScaler\n",
    "from sklearn.ensemble import RandomForestClassifier\n",
    "from sklearn.metrics import classification_report, accuracy_score, f1_score, confusion_matrix\n",
    "import joblib\n",
    "\n",
    "\n",
    "train_val_data = pd.read_csv('../data/projeto_va1_base_de_dados_train_val.csv')\n",
    "test_data = pd.read_csv('../data/projeto_va1_base_de_dados_teste_sem_target.csv')\n",
    "\n",
    "train_val_data.fillna(0, inplace=True)\n",
    "categorical_columns = ['UF', 'SEXO', 'INSTRU', 'RACA_COR', 'BODY_SYSTEM']\n",
    "train_val_data = pd.get_dummies(train_val_data, columns=categorical_columns, drop_first=True)\n",
    "test_data = pd.get_dummies(test_data, columns=categorical_columns, drop_first=True)\n",
    "\n",
    "missing_cols = set(train_val_data.columns) - set(test_data.columns)\n",
    "for col in missing_cols:\n",
    "    test_data[col] = 0\n",
    "test_data = test_data[train_val_data.columns.drop('H_COST')]\n",
    "\n",
    "# Separando os dados em features (X) e target (y)\n",
    "X = train_val_data.drop(columns=['H_COST'])\n",
    "y = train_val_data['H_COST']\n",
    "\n",
    "X_train, X_val, y_train, y_val = train_test_split(X, y, test_size=0.2, random_state=42)\n",
    "\n",
    "# Escalando os dados\n",
    "scaler = StandardScaler()\n",
    "X_train = scaler.fit_transform(X_train)\n",
    "X_val = scaler.transform(X_val)\n",
    "test_data_scaled = scaler.transform(test_data)\n",
    "\n",
    "model = RandomForestClassifier(n_estimators=100, random_state=42)\n",
    "model.fit(X_train, y_train)\n",
    "\n",
    "y_val_pred = model.predict(X_val)\n",
    "final_accuracy = accuracy_score(y_val, y_val_pred)\n",
    "final_f1_score = f1_score(y_val, y_val_pred, average='weighted')\n",
    "classification_rep = classification_report(y_val, y_val_pred)\n",
    "conf_matrix = confusion_matrix(y_val, y_val_pred)\n",
    "mean_score = (final_accuracy + final_f1_score) / 2\n",
    "\n",
    "print(\"Acurácia final:\", final_accuracy)\n",
    "print(\"F1-score final:\", final_f1_score)\n",
    "print(\"Relatório de classificação final:\\n\", classification_rep)\n",
    "print(\"Matriz de confusão final:\\n\", conf_matrix)\n",
    "print(\"\\nMédia final entre Acurácia e F1-score:\", mean_score)\n",
    "\n",
    "# Salvando o modelo e o escalador\n",
    "joblib.dump(model, '../outputs/modelo_arvore_decisao.pkl')\n",
    "joblib.dump(scaler, '../outputs/scaler.pkl')\n",
    "\n",
    "test_predictions = model.predict(test_data_scaled)\n",
    "\n",
    "# Salvando os pré resultados\n",
    "result = pd.DataFrame(test_predictions, columns=['H_COST_PRED'])\n",
    "result.to_csv('../outputs/pre_resultado_com_predicoes.csv', index=False)\n"
   ]
  }
 ],
 "metadata": {
  "kernelspec": {
   "display_name": "Python 3",
   "language": "python",
   "name": "python3"
  },
  "language_info": {
   "codemirror_mode": {
    "name": "ipython",
    "version": 3
   },
   "file_extension": ".py",
   "mimetype": "text/x-python",
   "name": "python",
   "nbconvert_exporter": "python",
   "pygments_lexer": "ipython3",
   "version": "3.12.4"
  }
 },
 "nbformat": 4,
 "nbformat_minor": 2
}
